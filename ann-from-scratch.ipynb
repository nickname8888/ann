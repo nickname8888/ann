{
 "cells": [
  {
   "cell_type": "code",
   "execution_count": 1,
   "id": "24865652",
   "metadata": {},
   "outputs": [
    {
     "name": "stdout",
     "output_type": "stream",
     "text": [
      "Python 3.10.9\n"
     ]
    }
   ],
   "source": [
    "!python --version"
   ]
  },
  {
   "cell_type": "code",
   "execution_count": 2,
   "id": "09e60102",
   "metadata": {},
   "outputs": [],
   "source": [
    "import math\n",
    "import numpy as np \n",
    "import matplotlib.pyplot as plt\n",
    "%matplotlib inline"
   ]
  },
  {
   "cell_type": "code",
   "execution_count": 4,
   "id": "a284f8df",
   "metadata": {},
   "outputs": [],
   "source": [
    "# understanding derivatives\n",
    "\n",
    "def f(x):\n",
    "    return 4*x**2 + 5*x + 3"
   ]
  },
  {
   "cell_type": "code",
   "execution_count": 5,
   "id": "5e84edc6",
   "metadata": {},
   "outputs": [
    {
     "data": {
      "text/plain": [
       "54.0"
      ]
     },
     "execution_count": 5,
     "metadata": {},
     "output_type": "execute_result"
    }
   ],
   "source": [
    "f(3.0)"
   ]
  },
  {
   "cell_type": "code",
   "execution_count": 10,
   "id": "f0ab6751",
   "metadata": {},
   "outputs": [
    {
     "name": "stdout",
     "output_type": "stream",
     "text": [
      "[-5.   -4.75 -4.5  -4.25 -4.   -3.75 -3.5  -3.25 -3.   -2.75 -2.5  -2.25\n",
      " -2.   -1.75 -1.5  -1.25 -1.   -0.75 -0.5  -0.25  0.    0.25  0.5   0.75\n",
      "  1.    1.25  1.5   1.75  2.    2.25  2.5   2.75  3.    3.25  3.5   3.75\n",
      "  4.    4.25  4.5   4.75]\n"
     ]
    }
   ],
   "source": [
    "xs = np.arange(-5,5,0.25)\n",
    "print(xs)"
   ]
  },
  {
   "cell_type": "code",
   "execution_count": 12,
   "id": "e0aff7d8",
   "metadata": {},
   "outputs": [
    {
     "name": "stdout",
     "output_type": "stream",
     "text": [
      "[ 78.   69.5  61.5  54.   47.   40.5  34.5  29.   24.   19.5  15.5  12.\n",
      "   9.    6.5   4.5   3.    2.    1.5   1.5   2.    3.    4.5   6.5   9.\n",
      "  12.   15.5  19.5  24.   29.   34.5  40.5  47.   54.   61.5  69.5  78.\n",
      "  87.   96.5 106.5 117. ]\n"
     ]
    }
   ],
   "source": [
    "ys = f(xs)\n",
    "print(ys)"
   ]
  },
  {
   "cell_type": "code",
   "execution_count": 13,
   "id": "1d228898",
   "metadata": {},
   "outputs": [
    {
     "data": {
      "text/plain": [
       "[<matplotlib.lines.Line2D at 0x202580bb6d0>]"
      ]
     },
     "execution_count": 13,
     "metadata": {},
     "output_type": "execute_result"
    },
    {
     "data": {
      "image/png": "[encoded data removed]",
      "text/plain": [
       "<Figure size 640x480 with 1 Axes>"
      ]
     },
     "metadata": {},
     "output_type": "display_data"
    }
   ],
   "source": [
    "plt.plot(xs,ys)"
   ]
  },
  {
   "cell_type": "code",
   "execution_count": 17,
   "id": "e9aa0a4d",
   "metadata": {},
   "outputs": [
    {
     "name": "stdout",
     "output_type": "stream",
     "text": [
      "13.000040000044065\n"
     ]
    }
   ],
   "source": [
    "h = 0.00001\n",
    "x = 1\n",
    "derivative = (f(x+h) - f(x))/h\n",
    "print(derivative)"
   ]
  },
  {
   "cell_type": "code",
   "execution_count": 25,
   "id": "ffbc0a74",
   "metadata": {},
   "outputs": [
    {
     "name": "stdout",
     "output_type": "stream",
     "text": [
      "0\n"
     ]
    }
   ],
   "source": [
    "h = 0.00001\n",
    "x = -5/8\n",
    "derivative = (f(x+h) - f(x))/h\n",
    "print(int(derivative))"
   ]
  },
  {
   "cell_type": "code",
   "execution_count": 26,
   "id": "af03f840",
   "metadata": {},
   "outputs": [
    {
     "name": "stdout",
     "output_type": "stream",
     "text": [
      "d1 4.0\n",
      "d2 4.00001\n",
      "slope 0.9999999999621422\n"
     ]
    }
   ],
   "source": [
    "h = 0.00001\n",
    "\n",
    "#inputs\n",
    "a = 2.0\n",
    "b = -3.0\n",
    "c = 10.0\n",
    "\n",
    "d1 = a*b+c\n",
    "c += h \n",
    "d2 = a*b+c\n",
    "\n",
    "print(\"d1\", d1)\n",
    "print(\"d2\", d2)\n",
    "print(\"slope\", (d2-d1)/h)"
   ]
  },
  {
   "cell_type": "code",
   "execution_count": 32,
   "id": "c7113c9a",
   "metadata": {},
   "outputs": [],
   "source": [
    "class Value: \n",
    "    def __init__(self, data): \n",
    "        self.data = data\n",
    "\n",
    "    def __repr__(self): \n",
    "        return f\"Value(data={self.data})\"\n",
    "    \n",
    "    def __add__(self, other): \n",
    "        out = Value(self.data + other.data)\n",
    "        return out\n",
    "    \n",
    "    def __mul__(self, other):\n",
    "        out = Value(self.data * other.data)\n",
    "        return out\n",
    "        "
   ]
  },
  {
   "cell_type": "code",
   "execution_count": 33,
   "id": "7ccf8a9c",
   "metadata": {},
   "outputs": [
    {
     "data": {
      "text/plain": [
       "Value(data=6.0)"
      ]
     },
     "execution_count": 33,
     "metadata": {},
     "output_type": "execute_result"
    }
   ],
   "source": [
    "a = Value(3.0)\n",
    "b = Value(2.0)\n",
    "\n",
    "a * b"
   ]
  }
 ],
 "metadata": {
  "kernelspec": {
   "display_name": "Python 3 (ipykernel)",
   "language": "python",
   "name": "python3"
  },
  "language_info": {
   "codemirror_mode": {
    "name": "ipython",
    "version": 3
   },
   "file_extension": ".py",
   "mimetype": "text/x-python",
   "name": "python",
   "nbconvert_exporter": "python",
   "pygments_lexer": "ipython3",
   "version": "3.8.0"
  }
 },
 "nbformat": 4,
 "nbformat_minor": 5
}
